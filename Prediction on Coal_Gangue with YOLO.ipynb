{
 "cells": [
  {
   "cell_type": "markdown",
   "id": "124578a5",
   "metadata": {},
   "source": [
    "## Importing the dependences"
   ]
  },
  {
   "cell_type": "code",
   "execution_count": 1,
   "id": "218de06c",
   "metadata": {},
   "outputs": [],
   "source": [
    "import numpy as np, pandas as pd, os"
   ]
  },
  {
   "cell_type": "code",
   "execution_count": 2,
   "id": "1c4b7171",
   "metadata": {},
   "outputs": [],
   "source": [
    "from ultralytics import YOLO"
   ]
  },
  {
   "cell_type": "code",
   "execution_count": 3,
   "id": "091d8200",
   "metadata": {},
   "outputs": [],
   "source": [
    "model = YOLO(\"yolov8n-cls.pt\")  # load a pretrained model "
   ]
  },
  {
   "cell_type": "markdown",
   "id": "70aececd",
   "metadata": {},
   "source": [
    "## Train YOLO Model with Coal_Gangue Data"
   ]
  },
  {
   "cell_type": "code",
   "execution_count": 4,
   "id": "aca17eb8",
   "metadata": {
    "scrolled": false
   },
   "outputs": [
    {
     "name": "stdout",
     "output_type": "stream",
     "text": [
      "New https://pypi.org/project/ultralytics/8.2.26 available  Update with 'pip install -U ultralytics'\n",
      "Ultralytics YOLOv8.2.24  Python-3.10.12 torch-2.3.0+cpu CPU (Intel Core(TM) i5-8250U 1.60GHz)\n",
      "\u001b[34m\u001b[1mengine\\trainer: \u001b[0mtask=classify, mode=train, model=yolov8n-cls.pt, data=C:\\coal_gangue, epochs=10, time=None, patience=100, batch=16, imgsz=64, save=True, save_period=-1, cache=False, device=None, workers=8, project=None, name=train10, exist_ok=False, pretrained=True, optimizer=auto, verbose=True, seed=0, deterministic=True, single_cls=False, rect=False, cos_lr=False, close_mosaic=10, resume=False, amp=True, fraction=1.0, profile=False, freeze=None, multi_scale=False, overlap_mask=True, mask_ratio=4, dropout=0.0, val=True, split=val, save_json=False, save_hybrid=False, conf=None, iou=0.7, max_det=300, half=False, dnn=False, plots=True, source=None, vid_stride=1, stream_buffer=False, visualize=False, augment=False, agnostic_nms=False, classes=None, retina_masks=False, embed=None, show=False, save_frames=False, save_txt=False, save_conf=False, save_crop=False, show_labels=True, show_conf=True, show_boxes=True, line_width=None, format=torchscript, keras=False, optimize=False, int8=False, dynamic=False, simplify=False, opset=None, workspace=4, nms=False, lr0=0.01, lrf=0.01, momentum=0.937, weight_decay=0.0005, warmup_epochs=3.0, warmup_momentum=0.8, warmup_bias_lr=0.1, box=7.5, cls=0.5, dfl=1.5, pose=12.0, kobj=1.0, label_smoothing=0.0, nbs=64, hsv_h=0.015, hsv_s=0.7, hsv_v=0.4, degrees=0.0, translate=0.1, scale=0.5, shear=0.0, perspective=0.0, flipud=0.0, fliplr=0.5, bgr=0.0, mosaic=1.0, mixup=0.0, copy_paste=0.0, auto_augment=randaugment, erasing=0.4, crop_fraction=1.0, cfg=None, tracker=botsort.yaml, save_dir=runs\\classify\\train10\n",
      "\u001b[34m\u001b[1mtrain:\u001b[0m C:\\coal_gangue\\train... found 550 images in 2 classes  \n",
      "\u001b[34m\u001b[1mval:\u001b[0m C:\\coal_gangue\\val... found 66 images in 2 classes  \n",
      "\u001b[34m\u001b[1mtest:\u001b[0m None...\n",
      "Overriding model.yaml nc=1000 with nc=2\n",
      "\n",
      "                   from  n    params  module                                       arguments                     \n",
      "  0                  -1  1       464  ultralytics.nn.modules.conv.Conv             [3, 16, 3, 2]                 \n",
      "  1                  -1  1      4672  ultralytics.nn.modules.conv.Conv             [16, 32, 3, 2]                \n",
      "  2                  -1  1      7360  ultralytics.nn.modules.block.C2f             [32, 32, 1, True]             \n",
      "  3                  -1  1     18560  ultralytics.nn.modules.conv.Conv             [32, 64, 3, 2]                \n",
      "  4                  -1  2     49664  ultralytics.nn.modules.block.C2f             [64, 64, 2, True]             \n",
      "  5                  -1  1     73984  ultralytics.nn.modules.conv.Conv             [64, 128, 3, 2]               \n",
      "  6                  -1  2    197632  ultralytics.nn.modules.block.C2f             [128, 128, 2, True]           \n",
      "  7                  -1  1    295424  ultralytics.nn.modules.conv.Conv             [128, 256, 3, 2]              \n",
      "  8                  -1  1    460288  ultralytics.nn.modules.block.C2f             [256, 256, 1, True]           \n",
      "  9                  -1  1    332802  ultralytics.nn.modules.head.Classify         [256, 2]                      \n",
      "YOLOv8n-cls summary: 99 layers, 1440850 parameters, 1440850 gradients, 3.4 GFLOPs\n",
      "Transferred 156/158 items from pretrained weights\n",
      "\u001b[34m\u001b[1mTensorBoard: \u001b[0mStart with 'tensorboard --logdir runs\\classify\\train10', view at http://localhost:6006/\n"
     ]
    },
    {
     "name": "stderr",
     "output_type": "stream",
     "text": [
      "\u001b[34m\u001b[1mtrain: \u001b[0mScanning C:\\coal_gangue\\train... 550 images, 0 corrupt: 100%|██████████| 550/550 [00:00<?, ?it/s]\n",
      "\u001b[34m\u001b[1mval: \u001b[0mScanning C:\\coal_gangue\\val... 66 images, 0 corrupt: 100%|██████████| 66/66 [00:00<?, ?it/s]"
     ]
    },
    {
     "name": "stdout",
     "output_type": "stream",
     "text": [
      "\u001b[34m\u001b[1moptimizer:\u001b[0m 'optimizer=auto' found, ignoring 'lr0=0.01' and 'momentum=0.937' and determining best 'optimizer', 'lr0' and 'momentum' automatically... \n",
      "\u001b[34m\u001b[1moptimizer:\u001b[0m AdamW(lr=0.000714, momentum=0.9) with parameter groups 26 weight(decay=0.0), 27 weight(decay=0.0005), 27 bias(decay=0.0)\n"
     ]
    },
    {
     "name": "stderr",
     "output_type": "stream",
     "text": [
      "\n"
     ]
    },
    {
     "name": "stdout",
     "output_type": "stream",
     "text": [
      "\u001b[34m\u001b[1mTensorBoard: \u001b[0mmodel graph visualization added \n",
      "Image sizes 64 train, 64 val\n",
      "Using 0 dataloader workers\n",
      "Logging results to \u001b[1mruns\\classify\\train10\u001b[0m\n",
      "Starting training for 10 epochs...\n",
      "\n",
      "      Epoch    GPU_mem       loss  Instances       Size\n"
     ]
    },
    {
     "name": "stderr",
     "output_type": "stream",
     "text": [
      "       1/10         0G     0.7068          6         64: 100%|██████████| 35/35 [00:07<00:00,  4.39it/s]\n",
      "               classes   top1_acc   top5_acc: 100%|██████████| 3/3 [00:00<00:00, 12.33it/s]"
     ]
    },
    {
     "name": "stdout",
     "output_type": "stream",
     "text": [
      "                   all      0.758          1\n"
     ]
    },
    {
     "name": "stderr",
     "output_type": "stream",
     "text": [
      "\n"
     ]
    },
    {
     "name": "stdout",
     "output_type": "stream",
     "text": [
      "\n",
      "      Epoch    GPU_mem       loss  Instances       Size\n"
     ]
    },
    {
     "name": "stderr",
     "output_type": "stream",
     "text": [
      "       2/10         0G     0.4006          6         64: 100%|██████████| 35/35 [00:06<00:00,  5.50it/s]\n",
      "               classes   top1_acc   top5_acc: 100%|██████████| 3/3 [00:00<00:00,  3.89it/s]"
     ]
    },
    {
     "name": "stdout",
     "output_type": "stream",
     "text": [
      "                   all      0.879          1\n"
     ]
    },
    {
     "name": "stderr",
     "output_type": "stream",
     "text": [
      "\n"
     ]
    },
    {
     "name": "stdout",
     "output_type": "stream",
     "text": [
      "\n",
      "      Epoch    GPU_mem       loss  Instances       Size\n"
     ]
    },
    {
     "name": "stderr",
     "output_type": "stream",
     "text": [
      "       3/10         0G     0.2697          6         64: 100%|██████████| 35/35 [00:06<00:00,  5.11it/s]\n",
      "               classes   top1_acc   top5_acc: 100%|██████████| 3/3 [00:00<00:00, 18.02it/s]"
     ]
    },
    {
     "name": "stdout",
     "output_type": "stream",
     "text": [
      "                   all      0.955          1\n"
     ]
    },
    {
     "name": "stderr",
     "output_type": "stream",
     "text": [
      "\n"
     ]
    },
    {
     "name": "stdout",
     "output_type": "stream",
     "text": [
      "\n",
      "      Epoch    GPU_mem       loss  Instances       Size\n"
     ]
    },
    {
     "name": "stderr",
     "output_type": "stream",
     "text": [
      "       4/10         0G     0.2105          6         64: 100%|██████████| 35/35 [00:06<00:00,  5.78it/s]\n",
      "               classes   top1_acc   top5_acc: 100%|██████████| 3/3 [00:00<00:00, 14.55it/s]"
     ]
    },
    {
     "name": "stdout",
     "output_type": "stream",
     "text": [
      "                   all      0.864          1\n"
     ]
    },
    {
     "name": "stderr",
     "output_type": "stream",
     "text": [
      "\n"
     ]
    },
    {
     "name": "stdout",
     "output_type": "stream",
     "text": [
      "\n",
      "      Epoch    GPU_mem       loss  Instances       Size\n"
     ]
    },
    {
     "name": "stderr",
     "output_type": "stream",
     "text": [
      "       5/10         0G     0.1802          6         64: 100%|██████████| 35/35 [00:06<00:00,  5.47it/s]\n",
      "               classes   top1_acc   top5_acc: 100%|██████████| 3/3 [00:00<00:00, 17.57it/s]"
     ]
    },
    {
     "name": "stdout",
     "output_type": "stream",
     "text": [
      "                   all      0.909          1\n"
     ]
    },
    {
     "name": "stderr",
     "output_type": "stream",
     "text": [
      "\n"
     ]
    },
    {
     "name": "stdout",
     "output_type": "stream",
     "text": [
      "\n",
      "      Epoch    GPU_mem       loss  Instances       Size\n"
     ]
    },
    {
     "name": "stderr",
     "output_type": "stream",
     "text": [
      "       6/10         0G     0.1431          6         64: 100%|██████████| 35/35 [00:06<00:00,  5.16it/s]\n",
      "               classes   top1_acc   top5_acc: 100%|██████████| 3/3 [00:00<00:00, 16.00it/s]"
     ]
    },
    {
     "name": "stdout",
     "output_type": "stream",
     "text": [
      "                   all      0.879          1\n"
     ]
    },
    {
     "name": "stderr",
     "output_type": "stream",
     "text": [
      "\n"
     ]
    },
    {
     "name": "stdout",
     "output_type": "stream",
     "text": [
      "\n",
      "      Epoch    GPU_mem       loss  Instances       Size\n"
     ]
    },
    {
     "name": "stderr",
     "output_type": "stream",
     "text": [
      "       7/10         0G     0.1541          6         64: 100%|██████████| 35/35 [00:06<00:00,  5.46it/s]\n",
      "               classes   top1_acc   top5_acc: 100%|██████████| 3/3 [00:00<00:00, 17.46it/s]"
     ]
    },
    {
     "name": "stdout",
     "output_type": "stream",
     "text": [
      "                   all      0.879          1\n"
     ]
    },
    {
     "name": "stderr",
     "output_type": "stream",
     "text": [
      "\n"
     ]
    },
    {
     "name": "stdout",
     "output_type": "stream",
     "text": [
      "\n",
      "      Epoch    GPU_mem       loss  Instances       Size\n"
     ]
    },
    {
     "name": "stderr",
     "output_type": "stream",
     "text": [
      "       8/10         0G     0.1633          6         64: 100%|██████████| 35/35 [00:06<00:00,  5.72it/s]\n",
      "               classes   top1_acc   top5_acc: 100%|██████████| 3/3 [00:00<00:00, 12.00it/s]"
     ]
    },
    {
     "name": "stdout",
     "output_type": "stream",
     "text": [
      "                   all      0.879          1\n"
     ]
    },
    {
     "name": "stderr",
     "output_type": "stream",
     "text": [
      "\n"
     ]
    },
    {
     "name": "stdout",
     "output_type": "stream",
     "text": [
      "\n",
      "      Epoch    GPU_mem       loss  Instances       Size\n"
     ]
    },
    {
     "name": "stderr",
     "output_type": "stream",
     "text": [
      "       9/10         0G     0.1217          6         64: 100%|██████████| 35/35 [00:07<00:00,  4.71it/s]\n",
      "               classes   top1_acc   top5_acc: 100%|██████████| 3/3 [00:00<00:00, 18.38it/s]"
     ]
    },
    {
     "name": "stdout",
     "output_type": "stream",
     "text": [
      "                   all      0.894          1\n"
     ]
    },
    {
     "name": "stderr",
     "output_type": "stream",
     "text": [
      "\n"
     ]
    },
    {
     "name": "stdout",
     "output_type": "stream",
     "text": [
      "\n",
      "      Epoch    GPU_mem       loss  Instances       Size\n"
     ]
    },
    {
     "name": "stderr",
     "output_type": "stream",
     "text": [
      "      10/10         0G     0.1221          6         64: 100%|██████████| 35/35 [00:06<00:00,  5.39it/s]\n",
      "               classes   top1_acc   top5_acc: 100%|██████████| 3/3 [00:00<00:00, 16.01it/s]"
     ]
    },
    {
     "name": "stdout",
     "output_type": "stream",
     "text": [
      "                   all      0.924          1\n"
     ]
    },
    {
     "name": "stderr",
     "output_type": "stream",
     "text": [
      "\n"
     ]
    },
    {
     "name": "stdout",
     "output_type": "stream",
     "text": [
      "\n",
      "10 epochs completed in 0.021 hours.\n",
      "Optimizer stripped from runs\\classify\\train10\\weights\\last.pt, 3.0MB\n",
      "Optimizer stripped from runs\\classify\\train10\\weights\\best.pt, 3.0MB\n",
      "\n",
      "Validating runs\\classify\\train10\\weights\\best.pt...\n",
      "Ultralytics YOLOv8.2.24  Python-3.10.12 torch-2.3.0+cpu CPU (Intel Core(TM) i5-8250U 1.60GHz)\n",
      "YOLOv8n-cls summary (fused): 73 layers, 1437442 parameters, 0 gradients, 3.3 GFLOPs\n",
      "\u001b[34m\u001b[1mtrain:\u001b[0m C:\\coal_gangue\\train... found 550 images in 2 classes  \n",
      "\u001b[34m\u001b[1mval:\u001b[0m C:\\coal_gangue\\val... found 66 images in 2 classes  \n",
      "\u001b[34m\u001b[1mtest:\u001b[0m None...\n"
     ]
    },
    {
     "name": "stderr",
     "output_type": "stream",
     "text": [
      "               classes   top1_acc   top5_acc: 100%|██████████| 3/3 [00:00<00:00,  7.64it/s]\n"
     ]
    },
    {
     "name": "stdout",
     "output_type": "stream",
     "text": [
      "                   all      0.955          1\n",
      "Speed: 0.0ms preprocess, 3.1ms inference, 0.0ms loss, 0.0ms postprocess per image\n",
      "Results saved to \u001b[1mruns\\classify\\train10\u001b[0m\n",
      "Results saved to \u001b[1mruns\\classify\\train10\u001b[0m\n"
     ]
    }
   ],
   "source": [
    "# Train the model\n",
    "results = model.train(data=\"C:\\coal_gangue\", epochs=10, imgsz=64)"
   ]
  },
  {
   "cell_type": "markdown",
   "id": "7b013c2d",
   "metadata": {},
   "source": [
    "## Load a Custom Model"
   ]
  },
  {
   "cell_type": "code",
   "execution_count": 7,
   "id": "a5034b44",
   "metadata": {},
   "outputs": [],
   "source": [
    "model = YOLO(r\"C:\\Users\\Lenovo\\runs\\classify\\train10\\weights\\last.pt\")  "
   ]
  },
  {
   "cell_type": "markdown",
   "id": "2b22fb3d",
   "metadata": {},
   "source": [
    "## Prediction"
   ]
  },
  {
   "cell_type": "code",
   "execution_count": 9,
   "id": "ed0d5f6a",
   "metadata": {},
   "outputs": [
    {
     "name": "stdout",
     "output_type": "stream",
     "text": [
      "\n",
      "image 1/1 C:\\coal_gangue\\train\\coal\\IR000033.bmp: 64x64 coal 0.86, gangue 0.14, 5.0ms\n",
      "Speed: 28.0ms preprocess, 5.0ms inference, 0.0ms postprocess per image at shape (1, 3, 64, 64)\n"
     ]
    }
   ],
   "source": [
    "# Predict with the model\n",
    "results = model(r\"C:\\coal_gangue\\train\\coal\\IR000033.bmp\")  # predict on a coal image"
   ]
  },
  {
   "cell_type": "code",
   "execution_count": 10,
   "id": "6353f5b8",
   "metadata": {},
   "outputs": [
    {
     "name": "stdout",
     "output_type": "stream",
     "text": [
      "[ultralytics.engine.results.Results object with attributes:\n",
      "\n",
      "boxes: None\n",
      "keypoints: None\n",
      "masks: None\n",
      "names: {0: 'coal', 1: 'gangue'}\n",
      "obb: None\n",
      "orig_img: array([[[21,  0, 21],\n",
      "        [37,  0, 37],\n",
      "        [45,  0, 45],\n",
      "        ...,\n",
      "        [49,  0, 49],\n",
      "        [44,  0, 44],\n",
      "        [38,  0, 38]],\n",
      "\n",
      "       [[26,  0, 26],\n",
      "        [40,  0, 40],\n",
      "        [47,  0, 47],\n",
      "        ...,\n",
      "        [50,  0, 50],\n",
      "        [45,  0, 45],\n",
      "        [43,  0, 43]],\n",
      "\n",
      "       [[26,  0, 26],\n",
      "        [44,  0, 44],\n",
      "        [48,  0, 48],\n",
      "        ...,\n",
      "        [51,  0, 51],\n",
      "        [49,  0, 49],\n",
      "        [45,  0, 45]],\n",
      "\n",
      "       ...,\n",
      "\n",
      "       [[17,  0, 17],\n",
      "        [33,  0, 33],\n",
      "        [50,  0, 50],\n",
      "        ...,\n",
      "        [45,  0, 45],\n",
      "        [52,  0, 52],\n",
      "        [57,  0, 57]],\n",
      "\n",
      "       [[16,  0, 16],\n",
      "        [29,  0, 29],\n",
      "        [43,  0, 43],\n",
      "        ...,\n",
      "        [45,  0, 45],\n",
      "        [50,  0, 50],\n",
      "        [54,  0, 54]],\n",
      "\n",
      "       [[10,  0, 10],\n",
      "        [23,  0, 23],\n",
      "        [38,  0, 38],\n",
      "        ...,\n",
      "        [42,  0, 42],\n",
      "        [49,  0, 49],\n",
      "        [53,  0, 53]]], dtype=uint8)\n",
      "orig_shape: (240, 54)\n",
      "path: 'C:\\\\coal_gangue\\\\train\\\\coal\\\\IR000033.bmp'\n",
      "probs: ultralytics.engine.results.Probs object\n",
      "save_dir: 'runs\\\\classify\\\\predict'\n",
      "speed: {'preprocess': 27.997493743896484, 'inference': 4.985809326171875, 'postprocess': 0.0}]\n"
     ]
    }
   ],
   "source": [
    "print(results)"
   ]
  },
  {
   "cell_type": "code",
   "execution_count": 11,
   "id": "d3b6c835",
   "metadata": {},
   "outputs": [],
   "source": [
    "names_dict = results[0].names"
   ]
  },
  {
   "cell_type": "code",
   "execution_count": 27,
   "id": "cd789a4a",
   "metadata": {},
   "outputs": [],
   "source": [
    "probs = results[0].probs"
   ]
  },
  {
   "cell_type": "code",
   "execution_count": 28,
   "id": "3325a29c",
   "metadata": {},
   "outputs": [
    {
     "name": "stdout",
     "output_type": "stream",
     "text": [
      "{0: 'coal', 1: 'gangue'}\n"
     ]
    }
   ],
   "source": [
    "print(names_dict)"
   ]
  },
  {
   "cell_type": "code",
   "execution_count": 29,
   "id": "844ee892",
   "metadata": {
    "scrolled": true
   },
   "outputs": [
    {
     "name": "stdout",
     "output_type": "stream",
     "text": [
      "ultralytics.engine.results.Probs object with attributes:\n",
      "\n",
      "data: tensor([0.8645, 0.1355])\n",
      "orig_shape: None\n",
      "shape: torch.Size([2])\n",
      "top1: 0\n",
      "top1conf: tensor(0.8645)\n",
      "top5: [0, 1]\n",
      "top5conf: tensor([0.8645, 0.1355])\n"
     ]
    }
   ],
   "source": [
    "print(probs)"
   ]
  },
  {
   "cell_type": "code",
   "execution_count": 32,
   "id": "43051143",
   "metadata": {},
   "outputs": [
    {
     "name": "stdout",
     "output_type": "stream",
     "text": [
      "coal\n"
     ]
    }
   ],
   "source": [
    "# Convert the tensor to a numpy array\n",
    "probs_numpy = probs_tensor.cpu().numpy()\n",
    "\n",
    "# Find the index of the maximum probability and retrieve the corresponding class name from the names_dict\n",
    "print(names_dict[np.argmax(probs_numpy)])"
   ]
  },
  {
   "cell_type": "code",
   "execution_count": 56,
   "id": "275f8edd",
   "metadata": {},
   "outputs": [
    {
     "name": "stdout",
     "output_type": "stream",
     "text": [
      "\n",
      "image 1/1 C:\\coal_gangue\\train\\gangue\\IR000222.bmp: 64x64 gangue 1.00, coal 0.00, 7.1ms\n",
      "Speed: 3.0ms preprocess, 7.1ms inference, 0.0ms postprocess per image at shape (1, 3, 64, 64)\n"
     ]
    }
   ],
   "source": [
    "# Predict with the model\n",
    "results_gangue = model(r\"C:\\coal_gangue\\train\\gangue\\IR000222.bmp\")  # predict on a gangue image"
   ]
  },
  {
   "cell_type": "code",
   "execution_count": 57,
   "id": "03f4b76d",
   "metadata": {},
   "outputs": [
    {
     "name": "stdout",
     "output_type": "stream",
     "text": [
      "[ultralytics.engine.results.Results object with attributes:\n",
      "\n",
      "boxes: None\n",
      "keypoints: None\n",
      "masks: None\n",
      "names: {0: 'coal', 1: 'gangue'}\n",
      "obb: None\n",
      "orig_img: array([[[253,   0, 251],\n",
      "        [248,   0, 247],\n",
      "        [238,   0, 238],\n",
      "        ...,\n",
      "        [249,   0, 231],\n",
      "        [248,   0, 230],\n",
      "        [251,   0, 239]],\n",
      "\n",
      "       [[254,   0, 251],\n",
      "        [251,   0, 250],\n",
      "        [242,   0, 242],\n",
      "        ...,\n",
      "        [248,   0, 227],\n",
      "        [248,   0, 227],\n",
      "        [249,   0, 233]],\n",
      "\n",
      "       [[254,   0, 250],\n",
      "        [251,   0, 250],\n",
      "        [243,   0, 243],\n",
      "        ...,\n",
      "        [247,   0, 222],\n",
      "        [247,   0, 222],\n",
      "        [249,   0, 231]],\n",
      "\n",
      "       ...,\n",
      "\n",
      "       [[ 16,   0,  16],\n",
      "        [ 23,   0,  23],\n",
      "        [ 30,   0,  30],\n",
      "        ...,\n",
      "        [ 20,   0,  20],\n",
      "        [ 15,   0,  15],\n",
      "        [  8,   0,   8]],\n",
      "\n",
      "       [[ 13,   0,  13],\n",
      "        [ 24,   0,  24],\n",
      "        [ 27,   0,  27],\n",
      "        ...,\n",
      "        [ 16,   0,  16],\n",
      "        [ 11,   0,  11],\n",
      "        [  6,   0,   6]],\n",
      "\n",
      "       [[ 11,   0,  11],\n",
      "        [ 18,   0,  18],\n",
      "        [ 23,   0,  23],\n",
      "        ...,\n",
      "        [ 14,   0,  14],\n",
      "        [  7,   0,   7],\n",
      "        [  3,   0,   3]]], dtype=uint8)\n",
      "orig_shape: (240, 54)\n",
      "path: 'C:\\\\coal_gangue\\\\train\\\\gangue\\\\IR000222.bmp'\n",
      "probs: ultralytics.engine.results.Probs object\n",
      "save_dir: 'runs\\\\classify\\\\predict'\n",
      "speed: {'preprocess': 2.9935836791992188, 'inference': 7.062196731567383, 'postprocess': 0.0}]\n"
     ]
    }
   ],
   "source": [
    "print(results_gangue)"
   ]
  },
  {
   "cell_type": "code",
   "execution_count": 58,
   "id": "8e1f51a8",
   "metadata": {},
   "outputs": [],
   "source": [
    "names_dict = results_gangue[0].names"
   ]
  },
  {
   "cell_type": "code",
   "execution_count": 59,
   "id": "b5ec1c5d",
   "metadata": {},
   "outputs": [],
   "source": [
    "probs= results_gangue[0].probs"
   ]
  },
  {
   "cell_type": "code",
   "execution_count": 60,
   "id": "20e51722",
   "metadata": {},
   "outputs": [
    {
     "data": {
      "text/plain": [
       "ultralytics.engine.results.Probs object with attributes:\n",
       "\n",
       "data: tensor([0.0017, 0.9983])\n",
       "orig_shape: None\n",
       "shape: torch.Size([2])\n",
       "top1: 1\n",
       "top1conf: tensor(0.9983)\n",
       "top5: [1, 0]\n",
       "top5conf: tensor([0.9983, 0.0017])"
      ]
     },
     "execution_count": 60,
     "metadata": {},
     "output_type": "execute_result"
    }
   ],
   "source": [
    "probs"
   ]
  },
  {
   "cell_type": "code",
   "execution_count": 61,
   "id": "5120964e",
   "metadata": {},
   "outputs": [
    {
     "name": "stdout",
     "output_type": "stream",
     "text": [
      "gangue\n"
     ]
    }
   ],
   "source": [
    "probs_tensor = results_gangue[0].probs.data\n",
    "\n",
    "# Convert the tensor to a numpy array\n",
    "probs_numpy = probs_tensor.cpu().numpy()\n",
    "\n",
    "# Find the index of the maximum probability\n",
    "max_index = np.argmax(probs_numpy)\n",
    "\n",
    "# Retrieve the corresponding class name from the names_dict\n",
    "print(names_dict[max_index])"
   ]
  },
  {
   "cell_type": "code",
   "execution_count": null,
   "id": "039fce4d",
   "metadata": {},
   "outputs": [],
   "source": []
  }
 ],
 "metadata": {
  "kernelspec": {
   "display_name": "Python 3 (ipykernel)",
   "language": "python",
   "name": "python3"
  },
  "language_info": {
   "codemirror_mode": {
    "name": "ipython",
    "version": 3
   },
   "file_extension": ".py",
   "mimetype": "text/x-python",
   "name": "python",
   "nbconvert_exporter": "python",
   "pygments_lexer": "ipython3",
   "version": "3.10.12"
  }
 },
 "nbformat": 4,
 "nbformat_minor": 5
}
